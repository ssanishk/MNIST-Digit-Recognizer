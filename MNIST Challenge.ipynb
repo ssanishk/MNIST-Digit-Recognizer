{
  "nbformat": 4,
  "nbformat_minor": 0,
  "metadata": {
    "colab": {
      "name": "MNIST.ipynb",
      "provenance": [],
      "collapsed_sections": [],
      "toc_visible": true
    },
    "kernelspec": {
      "name": "python3",
      "display_name": "Python 3"
    },
    "accelerator": "TPU"
  },
  "cells": [
    {
      "cell_type": "markdown",
      "metadata": {
        "id": "hGCXJnDZ7eRF",
        "colab_type": "text"
      },
      "source": [
        "# **MNIST Digit Recognizer challenge**"
      ]
    },
    {
      "cell_type": "code",
      "metadata": {
        "id": "qdPI2H00xZdd",
        "colab_type": "code",
        "outputId": "f663c3e6-8a4a-4eec-b98e-41d07f0b2385",
        "colab": {
          "base_uri": "https://localhost:8080/",
          "height": 128
        }
      },
      "source": [
        "from google.colab import drive\n",
        "drive.mount('/content/drive')"
      ],
      "execution_count": 1,
      "outputs": [
        {
          "output_type": "stream",
          "text": [
            "Go to this URL in a browser: https://accounts.google.com/o/oauth2/auth?client_id=947318989803-6bn6qk8qdgf4n4g3pfee6491hc0brc4i.apps.googleusercontent.com&redirect_uri=urn%3aietf%3awg%3aoauth%3a2.0%3aoob&response_type=code&scope=email%20https%3a%2f%2fwww.googleapis.com%2fauth%2fdocs.test%20https%3a%2f%2fwww.googleapis.com%2fauth%2fdrive%20https%3a%2f%2fwww.googleapis.com%2fauth%2fdrive.photos.readonly%20https%3a%2f%2fwww.googleapis.com%2fauth%2fpeopleapi.readonly\n",
            "\n",
            "Enter your authorization code:\n",
            "··········\n",
            "Mounted at /content/drive\n"
          ],
          "name": "stdout"
        }
      ]
    },
    {
      "cell_type": "markdown",
      "metadata": {
        "id": "1cBhDN0-8K-t",
        "colab_type": "text"
      },
      "source": [
        "The above code segment enables me to access the dataset that I have uploaded onto my Google Drive"
      ]
    },
    {
      "cell_type": "markdown",
      "metadata": {
        "id": "dPCfuZDq7wp4",
        "colab_type": "text"
      },
      "source": [
        "### Header files"
      ]
    },
    {
      "cell_type": "code",
      "metadata": {
        "id": "CULY-vtuzdN4",
        "colab_type": "code",
        "colab": {}
      },
      "source": [
        "# file access\n",
        "import os\n",
        "\n",
        "# linear algebra\n",
        "import numpy as np\n",
        " \n",
        "# data processing\n",
        "import pandas as pd\n",
        " \n",
        "# data visualization\n",
        "import matplotlib.pyplot as plt\n",
        "import seaborn as sns\n",
        "\n",
        "# building the model\n",
        "import tensorflow as tf\n",
        "from keras.models import Sequential\n",
        "from keras.layers import Dense, Conv2D, Dropout, Flatten, MaxPooling2D, Activation,BatchNormalization"
      ],
      "execution_count": 0,
      "outputs": []
    },
    {
      "cell_type": "markdown",
      "metadata": {
        "id": "4nOBFvHq73gE",
        "colab_type": "text"
      },
      "source": [
        "Showing the Location of all the files that have been used.\n",
        "\n",
        "\n",
        "*   Model.h5 is the weights of the model that has already been trained\n",
        "\n",
        "\n"
      ]
    },
    {
      "cell_type": "code",
      "metadata": {
        "id": "dmD_hPWYzaMk",
        "colab_type": "code",
        "outputId": "acd9ab29-9193-4382-9dd4-98f8b55b748d",
        "colab": {
          "base_uri": "https://localhost:8080/",
          "height": 35
        }
      },
      "source": [
        "os.listdir(\"/content/drive/My Drive/Projects/MNIST\")"
      ],
      "execution_count": 3,
      "outputs": [
        {
          "output_type": "execute_result",
          "data": {
            "text/plain": [
              "['MNIST.ipynb', 'mnist_test.csv', 'mnist_train.csv', 'model.h5']"
            ]
          },
          "metadata": {
            "tags": []
          },
          "execution_count": 3
        }
      ]
    },
    {
      "cell_type": "markdown",
      "metadata": {
        "id": "rkSo7AWH89sP",
        "colab_type": "text"
      },
      "source": [
        "## Data Handling \n",
        "\n",
        "The following code segments are used to read the raw datasets and recieve them in a format which would be ready to feed it into the model for training/testing."
      ]
    },
    {
      "cell_type": "code",
      "metadata": {
        "id": "ZBzcxZpd0F3C",
        "colab_type": "code",
        "colab": {}
      },
      "source": [
        "TrainData = pd.read_csv(\"/content/drive/My Drive/Projects/MNIST/mnist_train.csv\")\n",
        "TestData = pd.read_csv(\"/content/drive/My Drive/Projects/MNIST/mnist_test.csv\")"
      ],
      "execution_count": 0,
      "outputs": []
    },
    {
      "cell_type": "code",
      "metadata": {
        "id": "WPHcx4006qf1",
        "colab_type": "code",
        "colab": {}
      },
      "source": [
        "x_train = TrainData.values[:,1:]\n",
        "y_train = TrainData.values[:,0]\n",
        "x_test = TestData.values[:,1:]\n",
        "y_test = TestData.values[:,0]"
      ],
      "execution_count": 0,
      "outputs": []
    },
    {
      "cell_type": "code",
      "metadata": {
        "id": "_rumSoHoIWKM",
        "colab_type": "code",
        "outputId": "0a07be6f-2d98-441e-b463-dbb3c46ae0ff",
        "colab": {
          "base_uri": "https://localhost:8080/",
          "height": 835
        }
      },
      "source": [
        "print(x_train.shape)\n",
        "print(x_train[0])"
      ],
      "execution_count": 6,
      "outputs": [
        {
          "output_type": "stream",
          "text": [
            "(60000, 784)\n",
            "[  0   0   0   0   0   0   0   0   0   0   0   0   0   0   0   0   0   0\n",
            "   0   0   0   0   0   0   0   0   0   0   0   0   0   0   0   0   0   0\n",
            "   0   0   0   0   0   0   0   0   0   0   0   0   0   0   0   0   0   0\n",
            "   0   0   0   0   0   0   0   0   0   0   0   0   0   0   0   0   0   0\n",
            "   0   0   0   0   0   0   0   0   0   0   0   0   0   0   0   0   0   0\n",
            "   0   0   0   0   0   0   0   0   0   0   0   0   0   0   0   0   0   0\n",
            "   0   0   0   0   0   0   0   0   0   0   0   0   0   0   0   0   0   0\n",
            "   0   0   0   0   0   0   0   0   0   0   0   0   0   0   0   0   0   0\n",
            "   0   0   0   0   0   0   0   0   3  18  18  18 126 136 175  26 166 255\n",
            " 247 127   0   0   0   0   0   0   0   0   0   0   0   0  30  36  94 154\n",
            " 170 253 253 253 253 253 225 172 253 242 195  64   0   0   0   0   0   0\n",
            "   0   0   0   0   0  49 238 253 253 253 253 253 253 253 253 251  93  82\n",
            "  82  56  39   0   0   0   0   0   0   0   0   0   0   0   0  18 219 253\n",
            " 253 253 253 253 198 182 247 241   0   0   0   0   0   0   0   0   0   0\n",
            "   0   0   0   0   0   0   0   0  80 156 107 253 253 205  11   0  43 154\n",
            "   0   0   0   0   0   0   0   0   0   0   0   0   0   0   0   0   0   0\n",
            "   0  14   1 154 253  90   0   0   0   0   0   0   0   0   0   0   0   0\n",
            "   0   0   0   0   0   0   0   0   0   0   0   0   0 139 253 190   2   0\n",
            "   0   0   0   0   0   0   0   0   0   0   0   0   0   0   0   0   0   0\n",
            "   0   0   0   0   0  11 190 253  70   0   0   0   0   0   0   0   0   0\n",
            "   0   0   0   0   0   0   0   0   0   0   0   0   0   0   0   0  35 241\n",
            " 225 160 108   1   0   0   0   0   0   0   0   0   0   0   0   0   0   0\n",
            "   0   0   0   0   0   0   0   0   0  81 240 253 253 119  25   0   0   0\n",
            "   0   0   0   0   0   0   0   0   0   0   0   0   0   0   0   0   0   0\n",
            "   0   0  45 186 253 253 150  27   0   0   0   0   0   0   0   0   0   0\n",
            "   0   0   0   0   0   0   0   0   0   0   0   0   0  16  93 252 253 187\n",
            "   0   0   0   0   0   0   0   0   0   0   0   0   0   0   0   0   0   0\n",
            "   0   0   0   0   0   0   0 249 253 249  64   0   0   0   0   0   0   0\n",
            "   0   0   0   0   0   0   0   0   0   0   0   0   0   0  46 130 183 253\n",
            " 253 207   2   0   0   0   0   0   0   0   0   0   0   0   0   0   0   0\n",
            "   0   0   0   0  39 148 229 253 253 253 250 182   0   0   0   0   0   0\n",
            "   0   0   0   0   0   0   0   0   0   0   0   0  24 114 221 253 253 253\n",
            " 253 201  78   0   0   0   0   0   0   0   0   0   0   0   0   0   0   0\n",
            "   0   0  23  66 213 253 253 253 253 198  81   2   0   0   0   0   0   0\n",
            "   0   0   0   0   0   0   0   0   0   0  18 171 219 253 253 253 253 195\n",
            "  80   9   0   0   0   0   0   0   0   0   0   0   0   0   0   0   0   0\n",
            "  55 172 226 253 253 253 253 244 133  11   0   0   0   0   0   0   0   0\n",
            "   0   0   0   0   0   0   0   0   0   0 136 253 253 253 212 135 132  16\n",
            "   0   0   0   0   0   0   0   0   0   0   0   0   0   0   0   0   0   0\n",
            "   0   0   0   0   0   0   0   0   0   0   0   0   0   0   0   0   0   0\n",
            "   0   0   0   0   0   0   0   0   0   0   0   0   0   0   0   0   0   0\n",
            "   0   0   0   0   0   0   0   0   0   0   0   0   0   0   0   0   0   0\n",
            "   0   0   0   0   0   0   0   0   0   0   0   0   0   0   0   0   0   0\n",
            "   0   0   0   0   0   0   0   0   0   0]\n"
          ],
          "name": "stdout"
        }
      ]
    },
    {
      "cell_type": "code",
      "metadata": {
        "id": "BbhqBRLWItLq",
        "colab_type": "code",
        "outputId": "40fa3312-10b3-46b3-84e1-a0dbfdf2196c",
        "colab": {
          "base_uri": "https://localhost:8080/",
          "height": 284
        }
      },
      "source": [
        "# To view a sample image \n",
        "\n",
        "img = x_train[3242]\n",
        "img = img.reshape((28,28))\n",
        "img = img/255\n",
        "plt.imshow(img,cmap='Greys')\n"
      ],
      "execution_count": 7,
      "outputs": [
        {
          "output_type": "execute_result",
          "data": {
            "text/plain": [
              "<matplotlib.image.AxesImage at 0x7f7091149470>"
            ]
          },
          "metadata": {
            "tags": []
          },
          "execution_count": 7
        },
        {
          "output_type": "display_data",
          "data": {
            "image/png": "[encoded data removed]",
            "text/plain": [
              "<Figure size 432x288 with 1 Axes>"
            ]
          },
          "metadata": {
            "tags": []
          }
        }
      ]
    },
    {
      "cell_type": "markdown",
      "metadata": {
        "id": "X0C9xRG39YmX",
        "colab_type": "text"
      },
      "source": [
        "Owing to the fact that the initial conv2D only takes in dataset of 4-Dimensions, the obtained arrays have been resized.\n",
        "\n",
        "The data has been:\n",
        "\n",
        "*   Resized\n",
        "*   Normalized by dividing by 255\n",
        "\n",
        "\n"
      ]
    },
    {
      "cell_type": "code",
      "metadata": {
        "id": "FMQRiETjLDcR",
        "colab_type": "code",
        "outputId": "2621947e-1f04-49b1-d391-2d8a32af35e2",
        "colab": {
          "base_uri": "https://localhost:8080/",
          "height": 35
        }
      },
      "source": [
        "#Reshaping to a 4D structure to feed into the Network\n",
        "\n",
        "x_train = x_train.reshape(x_train.shape[0], 28, 28, 1)\n",
        "x_test = x_test.reshape(x_test.shape[0], 28, 28, 1)\n",
        "\n",
        "#normalizing the given data by dividing by 255\n",
        "\n",
        "x_train = x_train /255\n",
        "x_test = x_test /255\n",
        "\n",
        "input_shape = x_train.shape\n",
        "print(input_shape)"
      ],
      "execution_count": 8,
      "outputs": [
        {
          "output_type": "stream",
          "text": [
            "(60000, 28, 28, 1)\n"
          ],
          "name": "stdout"
        }
      ]
    },
    {
      "cell_type": "markdown",
      "metadata": {
        "id": "NkFa_6sM90ms",
        "colab_type": "text"
      },
      "source": [
        "## **Model Creation** \n",
        "\n",
        "The below model has been replicated :-\n",
        "\n",
        "\n",
        "\n",
        "![alt text](https://miro.medium.com/max/1000/1*5A4b1qOZIr4Q6SKceqGn7w.jpeg)"
      ]
    },
    {
      "cell_type": "code",
      "metadata": {
        "id": "WsJkJ5yCjKDm",
        "colab_type": "code",
        "outputId": "559a879d-f468-48e3-e07b-4f0a770711b9",
        "colab": {
          "base_uri": "https://localhost:8080/",
          "height": 1000
        }
      },
      "source": [
        "model = Sequential()\n",
        "\n",
        "model.add(Conv2D(filters=16,kernel_size=(3,3),strides=(1,1),padding='same',input_shape=(28,28,1),name='0'))\n",
        "model.add(Activation('relu'))\n",
        "model.add(BatchNormalization())\n",
        "model.add(MaxPooling2D(2,2))\n",
        "model.add(Conv2D(filters=32,kernel_size=(3,3),strides=(1,1),padding='same',name='1'))\n",
        "model.add(Activation('relu'))\n",
        "model.add(BatchNormalization())\n",
        "model.add(MaxPooling2D(2,2))\n",
        "\n",
        "model.add(Flatten())\n",
        "model.add(Dense(64))\n",
        "model.add(Activation('relu'))\n",
        "model.add(Dropout(0.29))\n",
        "model.add(Dense(10))\n",
        "model.add(Activation('softmax'))\n",
        "\n",
        "model.summary()"
      ],
      "execution_count": 9,
      "outputs": [
        {
          "output_type": "stream",
          "text": [
            "WARNING:tensorflow:From /usr/local/lib/python3.6/dist-packages/keras/backend/tensorflow_backend.py:66: The name tf.get_default_graph is deprecated. Please use tf.compat.v1.get_default_graph instead.\n",
            "\n",
            "WARNING:tensorflow:From /usr/local/lib/python3.6/dist-packages/keras/backend/tensorflow_backend.py:541: The name tf.placeholder is deprecated. Please use tf.compat.v1.placeholder instead.\n",
            "\n",
            "WARNING:tensorflow:From /usr/local/lib/python3.6/dist-packages/keras/backend/tensorflow_backend.py:4432: The name tf.random_uniform is deprecated. Please use tf.random.uniform instead.\n",
            "\n",
            "WARNING:tensorflow:From /usr/local/lib/python3.6/dist-packages/keras/backend/tensorflow_backend.py:190: The name tf.get_default_session is deprecated. Please use tf.compat.v1.get_default_session instead.\n",
            "\n",
            "WARNING:tensorflow:From /usr/local/lib/python3.6/dist-packages/keras/backend/tensorflow_backend.py:197: The name tf.ConfigProto is deprecated. Please use tf.compat.v1.ConfigProto instead.\n",
            "\n",
            "WARNING:tensorflow:From /usr/local/lib/python3.6/dist-packages/keras/backend/tensorflow_backend.py:203: The name tf.Session is deprecated. Please use tf.compat.v1.Session instead.\n",
            "\n",
            "WARNING:tensorflow:From /usr/local/lib/python3.6/dist-packages/keras/backend/tensorflow_backend.py:207: The name tf.global_variables is deprecated. Please use tf.compat.v1.global_variables instead.\n",
            "\n",
            "WARNING:tensorflow:From /usr/local/lib/python3.6/dist-packages/keras/backend/tensorflow_backend.py:216: The name tf.is_variable_initialized is deprecated. Please use tf.compat.v1.is_variable_initialized instead.\n",
            "\n",
            "WARNING:tensorflow:From /usr/local/lib/python3.6/dist-packages/keras/backend/tensorflow_backend.py:223: The name tf.variables_initializer is deprecated. Please use tf.compat.v1.variables_initializer instead.\n",
            "\n",
            "WARNING:tensorflow:From /usr/local/lib/python3.6/dist-packages/keras/backend/tensorflow_backend.py:2041: The name tf.nn.fused_batch_norm is deprecated. Please use tf.compat.v1.nn.fused_batch_norm instead.\n",
            "\n",
            "WARNING:tensorflow:From /usr/local/lib/python3.6/dist-packages/keras/backend/tensorflow_backend.py:148: The name tf.placeholder_with_default is deprecated. Please use tf.compat.v1.placeholder_with_default instead.\n",
            "\n",
            "WARNING:tensorflow:From /usr/local/lib/python3.6/dist-packages/keras/backend/tensorflow_backend.py:4267: The name tf.nn.max_pool is deprecated. Please use tf.nn.max_pool2d instead.\n",
            "\n",
            "WARNING:tensorflow:From /usr/local/lib/python3.6/dist-packages/keras/backend/tensorflow_backend.py:3733: calling dropout (from tensorflow.python.ops.nn_ops) with keep_prob is deprecated and will be removed in a future version.\n",
            "Instructions for updating:\n",
            "Please use `rate` instead of `keep_prob`. Rate should be set to `rate = 1 - keep_prob`.\n",
            "Model: \"sequential_1\"\n",
            "_________________________________________________________________\n",
            "Layer (type)                 Output Shape              Param #   \n",
            "=================================================================\n",
            "0 (Conv2D)                   (None, 28, 28, 16)        160       \n",
            "_________________________________________________________________\n",
            "activation_1 (Activation)    (None, 28, 28, 16)        0         \n",
            "_________________________________________________________________\n",
            "batch_normalization_1 (Batch (None, 28, 28, 16)        64        \n",
            "_________________________________________________________________\n",
            "max_pooling2d_1 (MaxPooling2 (None, 14, 14, 16)        0         \n",
            "_________________________________________________________________\n",
            "1 (Conv2D)                   (None, 14, 14, 32)        4640      \n",
            "_________________________________________________________________\n",
            "activation_2 (Activation)    (None, 14, 14, 32)        0         \n",
            "_________________________________________________________________\n",
            "batch_normalization_2 (Batch (None, 14, 14, 32)        128       \n",
            "_________________________________________________________________\n",
            "max_pooling2d_2 (MaxPooling2 (None, 7, 7, 32)          0         \n",
            "_________________________________________________________________\n",
            "flatten_1 (Flatten)          (None, 1568)              0         \n",
            "_________________________________________________________________\n",
            "dense_1 (Dense)              (None, 64)                100416    \n",
            "_________________________________________________________________\n",
            "activation_3 (Activation)    (None, 64)                0         \n",
            "_________________________________________________________________\n",
            "dropout_1 (Dropout)          (None, 64)                0         \n",
            "_________________________________________________________________\n",
            "dense_2 (Dense)              (None, 10)                650       \n",
            "_________________________________________________________________\n",
            "activation_4 (Activation)    (None, 10)                0         \n",
            "=================================================================\n",
            "Total params: 106,058\n",
            "Trainable params: 105,962\n",
            "Non-trainable params: 96\n",
            "_________________________________________________________________\n"
          ],
          "name": "stdout"
        }
      ]
    },
    {
      "cell_type": "code",
      "metadata": {
        "id": "0NQlFSQ0lxaE",
        "colab_type": "code",
        "colab": {}
      },
      "source": [
        "model.compile(optimizer='adam', \n",
        "              loss='sparse_categorical_crossentropy', \n",
        "              metrics=['accuracy'])\n",
        "\n"
      ],
      "execution_count": 0,
      "outputs": []
    },
    {
      "cell_type": "markdown",
      "metadata": {
        "id": "aKBGvc-mAX5x",
        "colab_type": "text"
      },
      "source": [
        "## **Model Training**"
      ]
    },
    {
      "cell_type": "code",
      "metadata": {
        "id": "DIEu11ZEqCNc",
        "colab_type": "code",
        "outputId": "bd5ec8a1-fe2b-4d5f-f729-2a6859ed7eac",
        "colab": {
          "base_uri": "https://localhost:8080/",
          "height": 837
        }
      },
      "source": [
        "# To Preload the Model to train on top of it \n",
        "# model.load_weights('/content/drive/My Drive/Projects/MNIST/model.h5')\n",
        "history = model.fit(x=x_train,y=y_train,validation_split=0.1, epochs=18)\n",
        "\n",
        "# Saving the model obtained after training\n",
        "model.save('/content/drive/My Drive/Projects/MNIST/model.h5')\n"
      ],
      "execution_count": 11,
      "outputs": [
        {
          "output_type": "stream",
          "text": [
            "WARNING:tensorflow:From /usr/local/lib/python3.6/dist-packages/tensorflow_core/python/ops/math_grad.py:1424: where (from tensorflow.python.ops.array_ops) is deprecated and will be removed in a future version.\n",
            "Instructions for updating:\n",
            "Use tf.where in 2.0, which has the same broadcast rule as np.where\n",
            "WARNING:tensorflow:From /usr/local/lib/python3.6/dist-packages/keras/backend/tensorflow_backend.py:1033: The name tf.assign_add is deprecated. Please use tf.compat.v1.assign_add instead.\n",
            "\n",
            "WARNING:tensorflow:From /usr/local/lib/python3.6/dist-packages/keras/backend/tensorflow_backend.py:1020: The name tf.assign is deprecated. Please use tf.compat.v1.assign instead.\n",
            "\n",
            "Train on 54000 samples, validate on 6000 samples\n",
            "Epoch 1/18\n",
            "54000/54000 [==============================] - 61s 1ms/step - loss: 0.2016 - acc: 0.9396 - val_loss: 0.0590 - val_acc: 0.9835\n",
            "Epoch 2/18\n",
            "54000/54000 [==============================] - 60s 1ms/step - loss: 0.0841 - acc: 0.9748 - val_loss: 0.0473 - val_acc: 0.9877\n",
            "Epoch 3/18\n",
            "54000/54000 [==============================] - 60s 1ms/step - loss: 0.0631 - acc: 0.9813 - val_loss: 0.0495 - val_acc: 0.9860\n",
            "Epoch 4/18\n",
            "54000/54000 [==============================] - 60s 1ms/step - loss: 0.0522 - acc: 0.9837 - val_loss: 0.0627 - val_acc: 0.9827\n",
            "Epoch 5/18\n",
            "54000/54000 [==============================] - 60s 1ms/step - loss: 0.0433 - acc: 0.9859 - val_loss: 0.0420 - val_acc: 0.9895\n",
            "Epoch 6/18\n",
            "54000/54000 [==============================] - 59s 1ms/step - loss: 0.0371 - acc: 0.9876 - val_loss: 0.0419 - val_acc: 0.9900\n",
            "Epoch 7/18\n",
            "54000/54000 [==============================] - 59s 1ms/step - loss: 0.0352 - acc: 0.9894 - val_loss: 0.0435 - val_acc: 0.9907\n",
            "Epoch 8/18\n",
            "54000/54000 [==============================] - 59s 1ms/step - loss: 0.0286 - acc: 0.9913 - val_loss: 0.0476 - val_acc: 0.9905\n",
            "Epoch 9/18\n",
            "54000/54000 [==============================] - 59s 1ms/step - loss: 0.0296 - acc: 0.9912 - val_loss: 0.0399 - val_acc: 0.9915\n",
            "Epoch 10/18\n",
            "54000/54000 [==============================] - 60s 1ms/step - loss: 0.0253 - acc: 0.9921 - val_loss: 0.0532 - val_acc: 0.9907\n",
            "Epoch 11/18\n",
            "54000/54000 [==============================] - 61s 1ms/step - loss: 0.0235 - acc: 0.9924 - val_loss: 0.0561 - val_acc: 0.9890\n",
            "Epoch 12/18\n",
            "54000/54000 [==============================] - 58s 1ms/step - loss: 0.0203 - acc: 0.9937 - val_loss: 0.0468 - val_acc: 0.9892\n",
            "Epoch 13/18\n",
            "54000/54000 [==============================] - 56s 1ms/step - loss: 0.0216 - acc: 0.9934 - val_loss: 0.0424 - val_acc: 0.9913\n",
            "Epoch 14/18\n",
            "54000/54000 [==============================] - 57s 1ms/step - loss: 0.0186 - acc: 0.9941 - val_loss: 0.0497 - val_acc: 0.9912\n",
            "Epoch 15/18\n",
            "54000/54000 [==============================] - 57s 1ms/step - loss: 0.0198 - acc: 0.9937 - val_loss: 0.0380 - val_acc: 0.9925\n",
            "Epoch 16/18\n",
            "54000/54000 [==============================] - 56s 1ms/step - loss: 0.0157 - acc: 0.9948 - val_loss: 0.0473 - val_acc: 0.9917\n",
            "Epoch 17/18\n",
            "54000/54000 [==============================] - 56s 1ms/step - loss: 0.0170 - acc: 0.9949 - val_loss: 0.0414 - val_acc: 0.9918\n",
            "Epoch 18/18\n",
            "54000/54000 [==============================] - 59s 1ms/step - loss: 0.0148 - acc: 0.9954 - val_loss: 0.0443 - val_acc: 0.9912\n"
          ],
          "name": "stdout"
        }
      ]
    },
    {
      "cell_type": "code",
      "metadata": {
        "id": "AVj2TSPFxKvo",
        "colab_type": "code",
        "colab": {
          "base_uri": "https://localhost:8080/",
          "height": 295
        },
        "outputId": "8c8cbcb6-108c-41e9-9178-19f87e0fd8aa"
      },
      "source": [
        "plt.plot(history.history['loss'])\n",
        "plt.plot(history.history['val_loss'])\n",
        "plt.title('model accuracy')\n",
        "plt.ylabel('accuracy')\n",
        "plt.xlabel('epoch')\n",
        "plt.legend(['train', 'val'], loc='upper left')\n",
        "plt.show()"
      ],
      "execution_count": 12,
      "outputs": [
        {
          "output_type": "display_data",
          "data": {
            "image/png": "[encoded data removed]",
            "text/plain": [
              "<Figure size 432x288 with 1 Axes>"
            ]
          },
          "metadata": {
            "tags": []
          }
        }
      ]
    },
    {
      "cell_type": "markdown",
      "metadata": {
        "id": "9-bm-K-3ABpE",
        "colab_type": "text"
      },
      "source": [
        "Since I have not declared the Model declaration as a standalone function, If you seek to load the model without re-training it, You'll have to re-run the model declarartion code Segment.\n",
        "\n",
        "\n",
        "Below is an example of the trained model at work."
      ]
    },
    {
      "cell_type": "code",
      "metadata": {
        "id": "JjJPZT89qGJ-",
        "colab_type": "code",
        "outputId": "85a5a54e-6ed2-4831-d440-ad38fea9614f",
        "colab": {
          "base_uri": "https://localhost:8080/",
          "height": 284
        }
      },
      "source": [
        "# Rerun the model Segment before running the below uncommented code line. Otherwise the code \n",
        "# model.load_weights('/content/drive/My Drive/Projects/MNIST/model.h5')\n",
        "\n",
        "image_index = 6656\n",
        "plt.imshow(x_test[image_index].reshape(28, 28),cmap='Greys')\n",
        "pred = model.predict(x_test[image_index].reshape(1, 28, 28, 1))\n",
        "print(pred.argmax())\n",
        "\n"
      ],
      "execution_count": 13,
      "outputs": [
        {
          "output_type": "stream",
          "text": [
            "9\n"
          ],
          "name": "stdout"
        },
        {
          "output_type": "display_data",
          "data": {
            "image/png": "[encoded data removed]",
            "text/plain": [
              "<Figure size 432x288 with 1 Axes>"
            ]
          },
          "metadata": {
            "tags": []
          }
        }
      ]
    },
    {
      "cell_type": "markdown",
      "metadata": {
        "id": "CrKcZ0fcAphs",
        "colab_type": "text"
      },
      "source": [
        "## **Test Set Evaluation**\n",
        "\n",
        "Once the model is trained, we check the  test loss and test accuracy with the test dataset that has been provided."
      ]
    },
    {
      "cell_type": "code",
      "metadata": {
        "id": "YVbmJ46xuG3l",
        "colab_type": "code",
        "outputId": "e753e018-850e-4575-f1b6-3e0a70db600a",
        "colab": {
          "base_uri": "https://localhost:8080/",
          "height": 54
        }
      },
      "source": [
        "results = model.evaluate(x_test, y_test, batch_size=128)\n",
        "print('test loss, test acc:', results)"
      ],
      "execution_count": 14,
      "outputs": [
        {
          "output_type": "stream",
          "text": [
            "10000/10000 [==============================] - 4s 364us/step\n",
            "test loss, test acc: [0.0345859735499449, 0.992]\n"
          ],
          "name": "stdout"
        }
      ]
    }
  ]
}